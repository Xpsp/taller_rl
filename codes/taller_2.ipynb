{
 "cells": [
  {
   "cell_type": "code",
   "execution_count": 42,
   "metadata": {},
   "outputs": [],
   "source": [
    "import numpy as np\n",
    "import pandas as pd\n",
    "from collections import defaultdict"
   ]
  },
  {
   "cell_type": "code",
   "execution_count": 26,
   "metadata": {},
   "outputs": [
    {
     "name": "stdout",
     "output_type": "stream",
     "text": [
      "States: [(0, 0), (0, 1), (0, 2), (0, 3), (1, 0), (1, 2), (1, 3), (2, 0), (2, 1), (2, 2), (2, 3)]\n"
     ]
    }
   ],
   "source": [
    "h, w = 3, 4\n",
    "r = -0.04\n",
    "gamma = 1.0\n",
    "\n",
    "walls = (1,1),\n",
    "end_states = (0,3), (1, 3)\n",
    "states = [(i,j) for i in range(h) for j in range(w) if (i,j) not in walls]\n",
    "print(\"States:\", states)"
   ]
  },
  {
   "cell_type": "code",
   "execution_count": 27,
   "metadata": {},
   "outputs": [
    {
     "name": "stdout",
     "output_type": "stream",
     "text": [
      "Actions:\n",
      "(0, 0) ['D', 'R']\n",
      "(0, 1) ['L', 'R']\n",
      "(0, 2) ['D', 'L', 'R']\n",
      "(1, 0) ['U', 'D']\n",
      "(1, 2) ['U', 'D', 'R']\n",
      "(2, 0) ['U', 'R']\n",
      "(2, 1) ['L', 'R']\n",
      "(2, 2) ['U', 'L', 'R']\n",
      "(2, 3) ['U', 'L']\n"
     ]
    }
   ],
   "source": [
    "actions=defaultdict(list)\n",
    "for s in states:\n",
    "    if s in end_states: continue\n",
    "    i,j = s\n",
    "    if (i-1, j) in states: actions[s].append(\"U\")\n",
    "    if (i+1, j) in states: actions[s].append(\"D\")\n",
    "    if (i, j-1) in states: actions[s].append(\"L\")\n",
    "    if (i, j+1) in states: actions[s].append(\"R\")\n",
    "\n",
    "print(\"Actions:\")\n",
    "for s, a in actions.items():\n",
    "    print(s, a)"
   ]
  },
  {
   "cell_type": "code",
   "execution_count": 29,
   "metadata": {},
   "outputs": [
    {
     "name": "stdout",
     "output_type": "stream",
     "text": [
      "Rewards:\n",
      "(0, 0) -0.04\n",
      "(0, 1) -0.04\n",
      "(0, 2) -0.04\n",
      "(0, 3) 1\n",
      "(1, 0) -0.04\n",
      "(1, 2) -0.04\n",
      "(1, 3) -1\n",
      "(2, 0) -0.04\n",
      "(2, 1) -0.04\n",
      "(2, 2) -0.04\n",
      "(2, 3) -0.04\n"
     ]
    }
   ],
   "source": [
    "rewards = {s:r for s in states}\n",
    "rewards[end_states[0]] = 1\n",
    "rewards[end_states[1]] = -1\n",
    "\n",
    "print(\"Rewards:\")\n",
    "for s, r in rewards.items():\n",
    "    print(s, r)"
   ]
  },
  {
   "cell_type": "code",
   "execution_count": 50,
   "metadata": {},
   "outputs": [],
   "source": [
    "def get_next_state(s, a):\n",
    "    i,j = s\n",
    "    if a == \"U\" and (i-1, j) in states: i -= 1\n",
    "    elif a == \"D\" and (i+1, j) in states: i += 1\n",
    "    elif a == \"L\" and (i, j-1) in states: j -= 1\n",
    "    elif a == \"R\" and (i, j+1) in states: j += 1\n",
    "    return (i,j)"
   ]
  },
  {
   "cell_type": "code",
   "execution_count": 51,
   "metadata": {},
   "outputs": [],
   "source": [
    "def get_probabilistic_action(s, a):\n",
    "    sp1, sp2 = s, s\n",
    "    if a == \"U\" or a == \"D\":\n",
    "        sp1 = get_next_state(s, \"L\")\n",
    "        sp2 = get_next_state(s, \"R\")\n",
    "    else:\n",
    "        sp1 = get_next_state(s, \"U\")\n",
    "        sp2 = get_next_state(s, \"D\")\n",
    "    return sp1, sp2"
   ]
  },
  {
   "cell_type": "code",
   "execution_count": 53,
   "metadata": {},
   "outputs": [
    {
     "name": "stdout",
     "output_type": "stream",
     "text": [
      "Iteration: 14\n",
      "       0      1      2      3\n",
      "0  0.812  0.868  0.918  1.000\n",
      "1  0.762  0.000  0.660 -1.000\n",
      "2  0.705  0.655  0.611  0.388\n"
     ]
    },
    {
     "data": {
      "text/html": [
       "<div>\n",
       "<style scoped>\n",
       "    .dataframe tbody tr th:only-of-type {\n",
       "        vertical-align: middle;\n",
       "    }\n",
       "\n",
       "    .dataframe tbody tr th {\n",
       "        vertical-align: top;\n",
       "    }\n",
       "\n",
       "    .dataframe thead th {\n",
       "        text-align: right;\n",
       "    }\n",
       "</style>\n",
       "<table border=\"1\" class=\"dataframe\">\n",
       "  <thead>\n",
       "    <tr style=\"text-align: right;\">\n",
       "      <th></th>\n",
       "      <th>0</th>\n",
       "      <th>1</th>\n",
       "      <th>2</th>\n",
       "      <th>3</th>\n",
       "    </tr>\n",
       "  </thead>\n",
       "  <tbody>\n",
       "    <tr>\n",
       "      <th>0</th>\n",
       "      <td>R</td>\n",
       "      <td>R</td>\n",
       "      <td>R</td>\n",
       "      <td>X</td>\n",
       "    </tr>\n",
       "    <tr>\n",
       "      <th>1</th>\n",
       "      <td>U</td>\n",
       "      <td></td>\n",
       "      <td>U</td>\n",
       "      <td>X</td>\n",
       "    </tr>\n",
       "    <tr>\n",
       "      <th>2</th>\n",
       "      <td>U</td>\n",
       "      <td>L</td>\n",
       "      <td>L</td>\n",
       "      <td>L</td>\n",
       "    </tr>\n",
       "  </tbody>\n",
       "</table>\n",
       "</div>"
      ],
      "text/plain": [
       "   0  1  2  3\n",
       "0  R  R  R  X\n",
       "1  U     U  X\n",
       "2  U  L  L  L"
      ]
     },
     "execution_count": 53,
     "metadata": {},
     "output_type": "execute_result"
    }
   ],
   "source": [
    "V = np.zeros((h,w))\n",
    "A = np.array([['' for _ in range(w)] for _ in range(h)])\n",
    "\n",
    "e = 1e-3\n",
    "\n",
    "for i in range(1, 101):\n",
    "    V_old = V.copy()\n",
    "    for s in states:\n",
    "        if s not in end_states:\n",
    "            list_values = []\n",
    "            for a in actions[s]:\n",
    "                sp = get_next_state(s, a)\n",
    "                sp1, sp2 = get_probabilistic_action(s, a)\n",
    "                list_values.append(0.8*V[sp] + 0.1*V[sp1] +0.1*V[sp2])\n",
    "            V[s] = rewards[s] + gamma * max(list_values)\n",
    "            A[s] = actions[s][np.argmax(list_values)]\n",
    "        else:\n",
    "            V[s] = rewards[s]\n",
    "            A[s] = 'X'\n",
    "    if np.abs(np.sum(V-V_old))<e: break\n",
    "\n",
    "print(\"Iteration:\", i)\n",
    "Vdf = pd.DataFrame(np.around(V,3))\n",
    "print(Vdf)\n",
    "Adf = pd.DataFrame(A)\n",
    "Adf"
   ]
  }
 ],
 "metadata": {
  "kernelspec": {
   "display_name": "Python 3",
   "language": "python",
   "name": "python3"
  },
  "language_info": {
   "codemirror_mode": {
    "name": "ipython",
    "version": 3
   },
   "file_extension": ".py",
   "mimetype": "text/x-python",
   "name": "python",
   "nbconvert_exporter": "python",
   "pygments_lexer": "ipython3",
   "version": "3.8.10"
  }
 },
 "nbformat": 4,
 "nbformat_minor": 2
}
