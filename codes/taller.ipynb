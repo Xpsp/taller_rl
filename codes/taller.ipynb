{
 "cells": [
  {
   "cell_type": "code",
   "execution_count": 68,
   "metadata": {},
   "outputs": [],
   "source": [
    "import numpy as np\n",
    "from collections import defaultdict"
   ]
  },
  {
   "cell_type": "code",
   "execution_count": 209,
   "metadata": {},
   "outputs": [
    {
     "name": "stdout",
     "output_type": "stream",
     "text": [
      "States:\n",
      "(0, 0)\n",
      "(0, 1)\n",
      "(0, 2)\n",
      "(0, 3)\n",
      "(1, 0)\n",
      "(1, 2)\n",
      "(1, 3)\n",
      "(2, 0)\n",
      "(2, 1)\n",
      "(2, 2)\n",
      "(2, 3)\n"
     ]
    }
   ],
   "source": [
    "h, w = 3, 4\n",
    "r = -0.04\n",
    "gamma = 1.0\n",
    "\n",
    "walls = (1,1),\n",
    "states = [(i,j) for i in range(h) for j in range(w) if (i,j) not in walls]\n",
    "end_states = (0,3), (1,3)\n",
    "print(\"States:\")\n",
    "for s in states:\n",
    "    print(s)"
   ]
  },
  {
   "cell_type": "code",
   "execution_count": 210,
   "metadata": {},
   "outputs": [
    {
     "name": "stdout",
     "output_type": "stream",
     "text": [
      "Rewards:\n"
     ]
    },
    {
     "data": {
      "text/plain": [
       "{(0, 0): -0.04,\n",
       " (0, 1): -0.04,\n",
       " (0, 2): -0.04,\n",
       " (0, 3): 1,\n",
       " (1, 0): -0.04,\n",
       " (1, 2): -0.04,\n",
       " (1, 3): -1,\n",
       " (2, 0): -0.04,\n",
       " (2, 1): -0.04,\n",
       " (2, 2): -0.04,\n",
       " (2, 3): -0.04}"
      ]
     },
     "execution_count": 210,
     "metadata": {},
     "output_type": "execute_result"
    }
   ],
   "source": [
    "rewards = {s: r for s in states}\n",
    "rewards[end_states[0]] = 1\n",
    "rewards[end_states[1]] = -1\n",
    "print(\"Rewards:\")\n",
    "rewards"
   ]
  },
  {
   "cell_type": "code",
   "execution_count": 211,
   "metadata": {},
   "outputs": [
    {
     "name": "stdout",
     "output_type": "stream",
     "text": [
      "Actions:\n",
      "(0, 0) ['D', 'R']\n",
      "(0, 1) ['L', 'R']\n",
      "(0, 2) ['D', 'L', 'R']\n",
      "(1, 0) ['U', 'D']\n",
      "(1, 2) ['U', 'D', 'R']\n",
      "(2, 0) ['U', 'R']\n",
      "(2, 1) ['L', 'R']\n",
      "(2, 2) ['U', 'L', 'R']\n",
      "(2, 3) ['U', 'L']\n"
     ]
    }
   ],
   "source": [
    "actions = defaultdict(list)\n",
    "for s in states:\n",
    "    if s in end_states: continue\n",
    "    i, j = s\n",
    "    if i > 0 and (i-1, j) in states: actions[s].append('U')\n",
    "    if i < h-1 and (i+1, j) in states: actions[s].append('D')\n",
    "    if j > 0 and (i, j-1) in states: actions[s].append('L')\n",
    "    if j < w-1 and (i, j+1) in states: actions[s].append('R')    \n",
    "    \n",
    "print(\"Actions:\")\n",
    "for s, a in actions.items():\n",
    "    print(s, a)"
   ]
  },
  {
   "cell_type": "code",
   "execution_count": 212,
   "metadata": {},
   "outputs": [],
   "source": [
    "def get_next_state(s, a):\n",
    "    sp = s\n",
    "    i, j = sp\n",
    "    if a == 'U' and (i-1, j) in states: i -= 1\n",
    "    if a == 'D' and (i+1, j) in states: i += 1\n",
    "    if a == 'L' and (i, j-1) in states: j -= 1\n",
    "    if a == 'R' and (i, j+1) in states: j += 1\n",
    "    return i,j"
   ]
  },
  {
   "cell_type": "code",
   "execution_count": 213,
   "metadata": {},
   "outputs": [],
   "source": [
    "def get_probabilistic_next_states(s, a):\n",
    "    sp1 = s\n",
    "    sp2 = s\n",
    "    if a == 'U' or a == 'D':\n",
    "        sp1 = get_next_state(s, 'L')\n",
    "        sp2 = get_next_state(s, 'R')\n",
    "    if a == 'L' or a == 'R':\n",
    "        sp1 = get_next_state(s, 'U')\n",
    "        sp2 = get_next_state(s, 'D')\n",
    "    return sp1, sp2"
   ]
  },
  {
   "cell_type": "code",
   "execution_count": 214,
   "metadata": {},
   "outputs": [
    {
     "name": "stdout",
     "output_type": "stream",
     "text": [
      "After 14 iterations:\n",
      "[[ 0.812  0.868  0.918  1.   ]\n",
      " [ 0.762  0.     0.66  -1.   ]\n",
      " [ 0.705  0.655  0.611  0.388]]\n",
      "\n",
      "[['R' 'R' 'R' 'X']\n",
      " ['U' '' 'U' 'X']\n",
      " ['U' 'L' 'L' 'L']]\n"
     ]
    }
   ],
   "source": [
    "e = 1e-3\n",
    "V = np.zeros((h, w))\n",
    "A = np.array([['' for _ in range(w)] for _ in range(h)])\n",
    "\n",
    "for i in range(1, 100+1):\n",
    "    V_old = V.copy()\n",
    "    for s in states:\n",
    "        if s not in end_states:\n",
    "            list_of_values, list_of_actions = [], []\n",
    "            for a in actions[s]:\n",
    "                sp = get_next_state(s, a)\n",
    "                sp1, sp2 = get_probabilistic_next_states(s, a)\n",
    "                list_of_values.append(0.8 * V[sp] + 0.1 * V[sp1] + 0.1 * V[sp2])\n",
    "            V[s] = rewards[s] + gamma * max(list_of_values)\n",
    "            A[s] = actions[s][np.argmax(list_of_values)]\n",
    "        else:\n",
    "            V[s] = rewards[s]\n",
    "            A[s] = 'X'\n",
    "    change = np.sum(np.abs(V-V_old))\n",
    "    if change < e: break\n",
    "\n",
    "print(f\"After {i} iterations:\")\n",
    "print(np.around(V,3))\n",
    "print()\n",
    "print(A)"
   ]
  }
 ],
 "metadata": {
  "kernelspec": {
   "display_name": "Python 3",
   "language": "python",
   "name": "python3"
  },
  "language_info": {
   "codemirror_mode": {
    "name": "ipython",
    "version": 3
   },
   "file_extension": ".py",
   "mimetype": "text/x-python",
   "name": "python",
   "nbconvert_exporter": "python",
   "pygments_lexer": "ipython3",
   "version": "3.8.10"
  }
 },
 "nbformat": 4,
 "nbformat_minor": 2
}
